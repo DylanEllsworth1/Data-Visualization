{
 "cells": [
  {
   "cell_type": "markdown",
   "id": "e5d06c34",
   "metadata": {},
   "source": [
    "# CS 4304 - Assignment 2\n",
    "## Dylan Ellsworth 201329133\n",
    "## Sept 29, 2021\n"
   ]
  },
  {
   "cell_type": "code",
   "execution_count": 3,
   "id": "d9d3881a",
   "metadata": {},
   "outputs": [],
   "source": [
    "import pandas as pd\n",
    "import matplotlib.pyplot as plt"
   ]
  },
  {
   "cell_type": "markdown",
   "id": "ce635d5f",
   "metadata": {},
   "source": [
    "### Question 1"
   ]
  },
  {
   "cell_type": "markdown",
   "id": "def8b8a9",
   "metadata": {},
   "source": [
    "We create the dataframe, get some info and then group by Field of Study to get the max values and sort them in descending order"
   ]
  },
  {
   "cell_type": "code",
   "execution_count": 4,
   "id": "be8fd948",
   "metadata": {},
   "outputs": [],
   "source": [
    "df = pd.read_csv('students1.csv')"
   ]
  },
  {
   "cell_type": "code",
   "execution_count": 5,
   "id": "1b03b64e",
   "metadata": {},
   "outputs": [
    {
     "name": "stdout",
     "output_type": "stream",
     "text": [
      "<class 'pandas.core.frame.DataFrame'>\n",
      "RangeIndex: 6221 entries, 0 to 6220\n",
      "Data columns (total 9 columns):\n",
      " #   Column                                                      Non-Null Count  Dtype \n",
      "---  ------                                                      --------------  ----- \n",
      " 0   REF_DATE                                                    6221 non-null   object\n",
      " 1   GEO                                                         6221 non-null   object\n",
      " 2   Institution type                                            6221 non-null   object\n",
      " 3   Registration status                                         6221 non-null   object\n",
      " 4   International Standard Classification of Education (ISCED)  6221 non-null   object\n",
      " 5   Field of study                                              6221 non-null   object\n",
      " 6   Gender                                                      6221 non-null   object\n",
      " 7   Status of student in Canada                                 6221 non-null   object\n",
      " 8   VALUE                                                       6221 non-null   int64 \n",
      "dtypes: int64(1), object(8)\n",
      "memory usage: 437.5+ KB\n"
     ]
    }
   ],
   "source": [
    "df.info()"
   ]
  },
  {
   "cell_type": "code",
   "execution_count": 6,
   "id": "3e15f9d8",
   "metadata": {},
   "outputs": [
    {
     "data": {
      "text/html": [
       "<div>\n",
       "<style scoped>\n",
       "    .dataframe tbody tr th:only-of-type {\n",
       "        vertical-align: middle;\n",
       "    }\n",
       "\n",
       "    .dataframe tbody tr th {\n",
       "        vertical-align: top;\n",
       "    }\n",
       "\n",
       "    .dataframe thead th {\n",
       "        text-align: right;\n",
       "    }\n",
       "</style>\n",
       "<table border=\"1\" class=\"dataframe\">\n",
       "  <thead>\n",
       "    <tr style=\"text-align: right;\">\n",
       "      <th></th>\n",
       "      <th>GEO</th>\n",
       "      <th>VALUE</th>\n",
       "    </tr>\n",
       "    <tr>\n",
       "      <th>Field of study</th>\n",
       "      <th></th>\n",
       "      <th></th>\n",
       "    </tr>\n",
       "  </thead>\n",
       "  <tbody>\n",
       "    <tr>\n",
       "      <th>Social and behavioural sciences and law [4]</th>\n",
       "      <td>Territories</td>\n",
       "      <td>49371</td>\n",
       "    </tr>\n",
       "    <tr>\n",
       "      <th>Humanities [3]</th>\n",
       "      <td>Territories</td>\n",
       "      <td>30864</td>\n",
       "    </tr>\n",
       "    <tr>\n",
       "      <th>Physical and life sciences and technologies [6]</th>\n",
       "      <td>Territories</td>\n",
       "      <td>29625</td>\n",
       "    </tr>\n",
       "    <tr>\n",
       "      <th>Health and related fields [10]</th>\n",
       "      <td>Territories</td>\n",
       "      <td>28299</td>\n",
       "    </tr>\n",
       "    <tr>\n",
       "      <th>Architecture, engineering and related technologies [8]</th>\n",
       "      <td>Territories</td>\n",
       "      <td>27963</td>\n",
       "    </tr>\n",
       "    <tr>\n",
       "      <th>Business, management and public administration [5]</th>\n",
       "      <td>Territories</td>\n",
       "      <td>26796</td>\n",
       "    </tr>\n",
       "    <tr>\n",
       "      <th>Unclassified</th>\n",
       "      <td>Territories</td>\n",
       "      <td>15525</td>\n",
       "    </tr>\n",
       "    <tr>\n",
       "      <th>Mathematics, computer and information sciences [7]</th>\n",
       "      <td>Saskatchewan</td>\n",
       "      <td>12438</td>\n",
       "    </tr>\n",
       "    <tr>\n",
       "      <th>Education [1]</th>\n",
       "      <td>Territories</td>\n",
       "      <td>10509</td>\n",
       "    </tr>\n",
       "    <tr>\n",
       "      <th>Visual and performing arts and communications technologies [2]</th>\n",
       "      <td>Territories</td>\n",
       "      <td>8568</td>\n",
       "    </tr>\n",
       "    <tr>\n",
       "      <th>Personal, protective and transportation services [11]</th>\n",
       "      <td>Territories</td>\n",
       "      <td>6783</td>\n",
       "    </tr>\n",
       "    <tr>\n",
       "      <th>Other  [12]</th>\n",
       "      <td>Territories</td>\n",
       "      <td>6351</td>\n",
       "    </tr>\n",
       "    <tr>\n",
       "      <th>Personal improvement and leisure [0]</th>\n",
       "      <td>Territories</td>\n",
       "      <td>3255</td>\n",
       "    </tr>\n",
       "    <tr>\n",
       "      <th>Agriculture, natural resources and conservation [9]</th>\n",
       "      <td>Territories</td>\n",
       "      <td>3195</td>\n",
       "    </tr>\n",
       "  </tbody>\n",
       "</table>\n",
       "</div>"
      ],
      "text/plain": [
       "                                                             GEO  VALUE\n",
       "Field of study                                                         \n",
       "Social and behavioural sciences and law [4]          Territories  49371\n",
       "Humanities [3]                                       Territories  30864\n",
       "Physical and life sciences and technologies [6]      Territories  29625\n",
       "Health and related fields [10]                       Territories  28299\n",
       "Architecture, engineering and related technolog...   Territories  27963\n",
       "Business, management and public administration [5]   Territories  26796\n",
       "Unclassified                                         Territories  15525\n",
       "Mathematics, computer and information sciences [7]  Saskatchewan  12438\n",
       "Education [1]                                        Territories  10509\n",
       "Visual and performing arts and communications t...   Territories   8568\n",
       "Personal, protective and transportation service...   Territories   6783\n",
       "Other  [12]                                          Territories   6351\n",
       "Personal improvement and leisure [0]                 Territories   3255\n",
       "Agriculture, natural resources and conservation...   Territories   3195"
      ]
     },
     "execution_count": 6,
     "metadata": {},
     "output_type": "execute_result"
    }
   ],
   "source": [
    "df[['Field of study','GEO','VALUE']].groupby('Field of study').max().sort_values(by='VALUE', ascending=False)"
   ]
  },
  {
   "cell_type": "markdown",
   "id": "ab4a3558",
   "metadata": {},
   "source": [
    "### Question 2"
   ]
  },
  {
   "cell_type": "markdown",
   "id": "5183771d",
   "metadata": {},
   "source": [
    "We created a new dataframe to filter full time students and then grouped by the Geo location, and summed up the values."
   ]
  },
  {
   "cell_type": "code",
   "execution_count": 7,
   "id": "8b424421",
   "metadata": {},
   "outputs": [],
   "source": [
    "df2 = df[df['Registration status'] == 'Full-time student']"
   ]
  },
  {
   "cell_type": "code",
   "execution_count": 10,
   "id": "3ef775fa",
   "metadata": {},
   "outputs": [
    {
     "data": {
      "text/html": [
       "<div>\n",
       "<style scoped>\n",
       "    .dataframe tbody tr th:only-of-type {\n",
       "        vertical-align: middle;\n",
       "    }\n",
       "\n",
       "    .dataframe tbody tr th {\n",
       "        vertical-align: top;\n",
       "    }\n",
       "\n",
       "    .dataframe thead th {\n",
       "        text-align: right;\n",
       "    }\n",
       "</style>\n",
       "<table border=\"1\" class=\"dataframe\">\n",
       "  <thead>\n",
       "    <tr style=\"text-align: right;\">\n",
       "      <th></th>\n",
       "      <th>GEO</th>\n",
       "      <th>VALUE</th>\n",
       "    </tr>\n",
       "  </thead>\n",
       "  <tbody>\n",
       "    <tr>\n",
       "      <th>0</th>\n",
       "      <td>Alberta</td>\n",
       "      <td>170856</td>\n",
       "    </tr>\n",
       "    <tr>\n",
       "      <th>1</th>\n",
       "      <td>British Columbia</td>\n",
       "      <td>172719</td>\n",
       "    </tr>\n",
       "    <tr>\n",
       "      <th>2</th>\n",
       "      <td>Manitoba</td>\n",
       "      <td>48735</td>\n",
       "    </tr>\n",
       "    <tr>\n",
       "      <th>3</th>\n",
       "      <td>New Brunswick</td>\n",
       "      <td>22986</td>\n",
       "    </tr>\n",
       "    <tr>\n",
       "      <th>4</th>\n",
       "      <td>Newfoundland and Labrador</td>\n",
       "      <td>19620</td>\n",
       "    </tr>\n",
       "    <tr>\n",
       "      <th>5</th>\n",
       "      <td>Nova Scotia</td>\n",
       "      <td>44601</td>\n",
       "    </tr>\n",
       "    <tr>\n",
       "      <th>6</th>\n",
       "      <td>Ontario</td>\n",
       "      <td>722586</td>\n",
       "    </tr>\n",
       "    <tr>\n",
       "      <th>7</th>\n",
       "      <td>Prince Edward Island</td>\n",
       "      <td>6474</td>\n",
       "    </tr>\n",
       "    <tr>\n",
       "      <th>8</th>\n",
       "      <td>Quebec</td>\n",
       "      <td>404391</td>\n",
       "    </tr>\n",
       "    <tr>\n",
       "      <th>9</th>\n",
       "      <td>Saskatchewan</td>\n",
       "      <td>40806</td>\n",
       "    </tr>\n",
       "    <tr>\n",
       "      <th>10</th>\n",
       "      <td>Territories</td>\n",
       "      <td>1491</td>\n",
       "    </tr>\n",
       "  </tbody>\n",
       "</table>\n",
       "</div>"
      ],
      "text/plain": [
       "                          GEO   VALUE\n",
       "0                     Alberta  170856\n",
       "1            British Columbia  172719\n",
       "2                    Manitoba   48735\n",
       "3               New Brunswick   22986\n",
       "4   Newfoundland and Labrador   19620\n",
       "5                 Nova Scotia   44601\n",
       "6                     Ontario  722586\n",
       "7        Prince Edward Island    6474\n",
       "8                      Quebec  404391\n",
       "9                Saskatchewan   40806\n",
       "10                Territories    1491"
      ]
     },
     "execution_count": 10,
     "metadata": {},
     "output_type": "execute_result"
    }
   ],
   "source": [
    "df3 = df2[['GEO', 'VALUE']].groupby('GEO').sum().reset_index()\n",
    "df3"
   ]
  },
  {
   "cell_type": "code",
   "execution_count": 11,
   "id": "ffe5c4a3",
   "metadata": {
    "scrolled": true
   },
   "outputs": [
    {
     "data": {
      "text/plain": [
       "Text(0.5, 1.0, 'Full time Canadian Students 2018')"
      ]
     },
     "execution_count": 11,
     "metadata": {},
     "output_type": "execute_result"
    },
    {
     "data": {
      "image/png": "[encoded data removed]",
      "text/plain": [
       "<Figure size 432x288 with 1 Axes>"
      ]
     },
     "metadata": {
      "needs_background": "light"
     },
     "output_type": "display_data"
    }
   ],
   "source": [
    "plt.scatter(df3['VALUE'], df3['GEO'])\n",
    "plt.xlabel('Number of full time students')\n",
    "plt.title('Full time Canadian Students 2018')"
   ]
  },
  {
   "cell_type": "markdown",
   "id": "4102d865",
   "metadata": {},
   "source": [
    "### Question 3"
   ]
  },
  {
   "cell_type": "markdown",
   "id": "5d2841a4",
   "metadata": {},
   "source": [
    "We created three dataframes, one for each species of flower so we could plot on the graph three times, one color for each flower."
   ]
  },
  {
   "cell_type": "code",
   "execution_count": 12,
   "id": "f8d8df12",
   "metadata": {},
   "outputs": [],
   "source": [
    "iris = pd.read_csv('iris.csv')\n",
    "setosa = iris[iris['species'] == 'setosa']\n",
    "versicolor = iris[iris['species'] == 'versicolor']\n",
    "virginica = iris[iris['species'] == 'virginica']"
   ]
  },
  {
   "cell_type": "code",
   "execution_count": 13,
   "id": "8bf99c4b",
   "metadata": {},
   "outputs": [
    {
     "data": {
      "text/plain": [
       "<matplotlib.legend.Legend at 0x198dad6ad30>"
      ]
     },
     "execution_count": 13,
     "metadata": {},
     "output_type": "execute_result"
    },
    {
     "data": {
      "image/png": "[encoded data removed]",
      "text/plain": [
       "<Figure size 432x288 with 1 Axes>"
      ]
     },
     "metadata": {
      "needs_background": "light"
     },
     "output_type": "display_data"
    }
   ],
   "source": [
    "plt.scatter(setosa['petal_length'], setosa['petal_width'], label=\"Setosa\")\n",
    "plt.scatter(versicolor['petal_length'], versicolor['petal_width'], label=\"Versicolor\")\n",
    "plt.scatter(virginica['petal_length'], virginica['petal_width'],label=\"Virginica\")\n",
    "plt.xlabel('Petal Length')\n",
    "plt.ylabel('Petal Width')\n",
    "plt.title('Iris Petals')\n",
    "plt.legend()"
   ]
  },
  {
   "cell_type": "markdown",
   "id": "d6d182d3",
   "metadata": {},
   "source": [
    "### Question 4"
   ]
  },
  {
   "cell_type": "markdown",
   "id": "774c061e",
   "metadata": {},
   "source": [
    "We created a new column for petal area which multiplies the length by the width. We then grouped by species and got the mean area of each species of flower."
   ]
  },
  {
   "cell_type": "code",
   "execution_count": 14,
   "id": "6681a6d6",
   "metadata": {},
   "outputs": [
    {
     "data": {
      "text/html": [
       "<div>\n",
       "<style scoped>\n",
       "    .dataframe tbody tr th:only-of-type {\n",
       "        vertical-align: middle;\n",
       "    }\n",
       "\n",
       "    .dataframe tbody tr th {\n",
       "        vertical-align: top;\n",
       "    }\n",
       "\n",
       "    .dataframe thead th {\n",
       "        text-align: right;\n",
       "    }\n",
       "</style>\n",
       "<table border=\"1\" class=\"dataframe\">\n",
       "  <thead>\n",
       "    <tr style=\"text-align: right;\">\n",
       "      <th></th>\n",
       "      <th>sepal_length</th>\n",
       "      <th>sepal_width</th>\n",
       "      <th>petal_length</th>\n",
       "      <th>petal_width</th>\n",
       "      <th>species</th>\n",
       "    </tr>\n",
       "  </thead>\n",
       "  <tbody>\n",
       "    <tr>\n",
       "      <th>0</th>\n",
       "      <td>5.1</td>\n",
       "      <td>3.5</td>\n",
       "      <td>1.4</td>\n",
       "      <td>0.2</td>\n",
       "      <td>setosa</td>\n",
       "    </tr>\n",
       "    <tr>\n",
       "      <th>1</th>\n",
       "      <td>4.9</td>\n",
       "      <td>3.0</td>\n",
       "      <td>1.4</td>\n",
       "      <td>0.2</td>\n",
       "      <td>setosa</td>\n",
       "    </tr>\n",
       "    <tr>\n",
       "      <th>2</th>\n",
       "      <td>4.7</td>\n",
       "      <td>3.2</td>\n",
       "      <td>1.3</td>\n",
       "      <td>0.2</td>\n",
       "      <td>setosa</td>\n",
       "    </tr>\n",
       "    <tr>\n",
       "      <th>3</th>\n",
       "      <td>4.6</td>\n",
       "      <td>3.1</td>\n",
       "      <td>1.5</td>\n",
       "      <td>0.2</td>\n",
       "      <td>setosa</td>\n",
       "    </tr>\n",
       "    <tr>\n",
       "      <th>4</th>\n",
       "      <td>5.0</td>\n",
       "      <td>3.6</td>\n",
       "      <td>1.4</td>\n",
       "      <td>0.2</td>\n",
       "      <td>setosa</td>\n",
       "    </tr>\n",
       "    <tr>\n",
       "      <th>...</th>\n",
       "      <td>...</td>\n",
       "      <td>...</td>\n",
       "      <td>...</td>\n",
       "      <td>...</td>\n",
       "      <td>...</td>\n",
       "    </tr>\n",
       "    <tr>\n",
       "      <th>145</th>\n",
       "      <td>6.7</td>\n",
       "      <td>3.0</td>\n",
       "      <td>5.2</td>\n",
       "      <td>2.3</td>\n",
       "      <td>virginica</td>\n",
       "    </tr>\n",
       "    <tr>\n",
       "      <th>146</th>\n",
       "      <td>6.3</td>\n",
       "      <td>2.5</td>\n",
       "      <td>5.0</td>\n",
       "      <td>1.9</td>\n",
       "      <td>virginica</td>\n",
       "    </tr>\n",
       "    <tr>\n",
       "      <th>147</th>\n",
       "      <td>6.5</td>\n",
       "      <td>3.0</td>\n",
       "      <td>5.2</td>\n",
       "      <td>2.0</td>\n",
       "      <td>virginica</td>\n",
       "    </tr>\n",
       "    <tr>\n",
       "      <th>148</th>\n",
       "      <td>6.2</td>\n",
       "      <td>3.4</td>\n",
       "      <td>5.4</td>\n",
       "      <td>2.3</td>\n",
       "      <td>virginica</td>\n",
       "    </tr>\n",
       "    <tr>\n",
       "      <th>149</th>\n",
       "      <td>5.9</td>\n",
       "      <td>3.0</td>\n",
       "      <td>5.1</td>\n",
       "      <td>1.8</td>\n",
       "      <td>virginica</td>\n",
       "    </tr>\n",
       "  </tbody>\n",
       "</table>\n",
       "<p>150 rows × 5 columns</p>\n",
       "</div>"
      ],
      "text/plain": [
       "     sepal_length  sepal_width  petal_length  petal_width    species\n",
       "0             5.1          3.5           1.4          0.2     setosa\n",
       "1             4.9          3.0           1.4          0.2     setosa\n",
       "2             4.7          3.2           1.3          0.2     setosa\n",
       "3             4.6          3.1           1.5          0.2     setosa\n",
       "4             5.0          3.6           1.4          0.2     setosa\n",
       "..            ...          ...           ...          ...        ...\n",
       "145           6.7          3.0           5.2          2.3  virginica\n",
       "146           6.3          2.5           5.0          1.9  virginica\n",
       "147           6.5          3.0           5.2          2.0  virginica\n",
       "148           6.2          3.4           5.4          2.3  virginica\n",
       "149           5.9          3.0           5.1          1.8  virginica\n",
       "\n",
       "[150 rows x 5 columns]"
      ]
     },
     "execution_count": 14,
     "metadata": {},
     "output_type": "execute_result"
    }
   ],
   "source": [
    "iris"
   ]
  },
  {
   "cell_type": "code",
   "execution_count": 15,
   "id": "c86635d7",
   "metadata": {},
   "outputs": [],
   "source": [
    "iris['petal_area'] = iris['petal_length'] * iris['petal_width']"
   ]
  },
  {
   "cell_type": "code",
   "execution_count": 26,
   "id": "83e99a7f",
   "metadata": {},
   "outputs": [
    {
     "data": {
      "text/html": [
       "<div>\n",
       "<style scoped>\n",
       "    .dataframe tbody tr th:only-of-type {\n",
       "        vertical-align: middle;\n",
       "    }\n",
       "\n",
       "    .dataframe tbody tr th {\n",
       "        vertical-align: top;\n",
       "    }\n",
       "\n",
       "    .dataframe thead th {\n",
       "        text-align: right;\n",
       "    }\n",
       "</style>\n",
       "<table border=\"1\" class=\"dataframe\">\n",
       "  <thead>\n",
       "    <tr style=\"text-align: right;\">\n",
       "      <th></th>\n",
       "      <th>species</th>\n",
       "      <th>petal_area</th>\n",
       "    </tr>\n",
       "  </thead>\n",
       "  <tbody>\n",
       "    <tr>\n",
       "      <th>0</th>\n",
       "      <td>virginica</td>\n",
       "      <td>11.2962</td>\n",
       "    </tr>\n",
       "    <tr>\n",
       "      <th>1</th>\n",
       "      <td>versicolor</td>\n",
       "      <td>5.7204</td>\n",
       "    </tr>\n",
       "    <tr>\n",
       "      <th>2</th>\n",
       "      <td>setosa</td>\n",
       "      <td>0.3656</td>\n",
       "    </tr>\n",
       "  </tbody>\n",
       "</table>\n",
       "</div>"
      ],
      "text/plain": [
       "      species  petal_area\n",
       "0   virginica     11.2962\n",
       "1  versicolor      5.7204\n",
       "2      setosa      0.3656"
      ]
     },
     "execution_count": 26,
     "metadata": {},
     "output_type": "execute_result"
    }
   ],
   "source": [
    "petal = iris[['species','petal_area']].groupby('species').mean().sort_values(by='petal_area', ascending = False).reset_index()\n",
    "petal"
   ]
  },
  {
   "cell_type": "code",
   "execution_count": 37,
   "id": "6e773c34",
   "metadata": {},
   "outputs": [
    {
     "data": {
      "image/png": "[encoded data removed]",
      "text/plain": [
       "<Figure size 432x288 with 1 Axes>"
      ]
     },
     "execution_count": 37,
     "metadata": {},
     "output_type": "execute_result"
    }
   ],
   "source": [
    "fig = plt.Figure()\n",
    "ax = fig.add_axes([0, 0, 1, 1])\n",
    "\n",
    "ax.barh(petal['species'], petal['petal_area'], color = ['darkgreen', 'darkorange','blue'])\n",
    "\n",
    "ax.set_xlim((0,11))\n",
    "ax.set_xlabel('Average Petal Area')\n",
    "ax.set_ylabel('Species')\n",
    "ax.set_title('Average Petal Area for Iris Flowers')\n",
    "\n",
    "fig"
   ]
  },
  {
   "cell_type": "code",
   "execution_count": null,
   "id": "baa77f38",
   "metadata": {},
   "outputs": [],
   "source": []
  }
 ],
 "metadata": {
  "kernelspec": {
   "display_name": "Python 3 (ipykernel)",
   "language": "python",
   "name": "python3"
  },
  "language_info": {
   "codemirror_mode": {
    "name": "ipython",
    "version": 3
   },
   "file_extension": ".py",
   "mimetype": "text/x-python",
   "name": "python",
   "nbconvert_exporter": "python",
   "pygments_lexer": "ipython3",
   "version": "3.9.1"
  }
 },
 "nbformat": 4,
 "nbformat_minor": 5
}
