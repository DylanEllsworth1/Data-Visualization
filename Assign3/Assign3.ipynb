{
 "cells": [
  {
   "cell_type": "markdown",
   "id": "eee134a3",
   "metadata": {},
   "source": [
    "# Assignment 3\n",
    " Dylan Ellsworth\n",
    " \n",
    " 201329133\n",
    " \n",
    " Dr. Terrence Tricco\n",
    " \n",
    " Oct 6, 2021"
   ]
  },
  {
   "cell_type": "code",
   "execution_count": null,
   "id": "c2a7bd34",
   "metadata": {},
   "outputs": [],
   "source": [
    "import pandas as pd\n",
    "import matplotlib.pyplot as plt"
   ]
  },
  {
   "cell_type": "code",
   "execution_count": null,
   "id": "036ec02b",
   "metadata": {},
   "outputs": [],
   "source": [
    "df = pd.read_csv('olympic_athletes.csv')"
   ]
  },
  {
   "cell_type": "code",
   "execution_count": null,
   "id": "27031e4e",
   "metadata": {},
   "outputs": [],
   "source": [
    "df"
   ]
  },
  {
   "cell_type": "markdown",
   "id": "8108b461",
   "metadata": {},
   "source": [
    "## Question 1"
   ]
  },
  {
   "cell_type": "markdown",
   "id": "06c2282d",
   "metadata": {},
   "source": [
    "First we filter out the data for the information we need. I could have also just sorted by Event, but this got the same results. We then grouped by the year and got the average for Height and Weight."
   ]
  },
  {
   "cell_type": "code",
   "execution_count": null,
   "id": "21a8e13e",
   "metadata": {},
   "outputs": [],
   "source": [
    "df2 = df[(df['Sex'] == 'M') & (df['Sport'] == 'Basketball') & (df['Medal'] == 'Gold')]"
   ]
  },
  {
   "cell_type": "code",
   "execution_count": null,
   "id": "fa9df84e",
   "metadata": {},
   "outputs": [],
   "source": [
    "df2"
   ]
  },
  {
   "cell_type": "code",
   "execution_count": null,
   "id": "fd4d656e",
   "metadata": {},
   "outputs": [],
   "source": [
    "df3 = df2[['Year','Height','Weight']].groupby('Year').mean().reset_index()"
   ]
  },
  {
   "cell_type": "code",
   "execution_count": null,
   "id": "291c5c36",
   "metadata": {},
   "outputs": [],
   "source": [
    "fig, ax1 = plt.subplots()\n",
    "ax1.set_xlabel('Year')\n",
    "ax1.set_ylabel('Height(cm)')\n",
    "ax1.plot(df3['Year'], df3['Height'], label='Height',color ='black',linewidth=1.5)\n",
    "\n",
    "\n",
    "ax2 = ax1.twinx()\n",
    "ax2.plot(df3['Year'], df3['Weight'], label='Weight',color ='red',linewidth=1.5, linestyle ='--')\n",
    "ax2.set_ylabel('Weight(kg)')\n",
    "\n",
    "plt.title('Average Olympic Mens Gold Basketball Teams')\n",
    "fig.legend(loc=(0.12,0.78))\n"
   ]
  },
  {
   "cell_type": "markdown",
   "id": "5ca3577e",
   "metadata": {},
   "source": [
    "## Question 2"
   ]
  },
  {
   "cell_type": "markdown",
   "id": "3a82118e",
   "metadata": {},
   "source": [
    "The top 10 medal winning countries at the 2016 Olympics along with the number of athletes."
   ]
  },
  {
   "cell_type": "code",
   "execution_count": null,
   "id": "18917783",
   "metadata": {},
   "outputs": [],
   "source": []
  },
  {
   "cell_type": "code",
   "execution_count": null,
   "id": "891a1fe3",
   "metadata": {},
   "outputs": [],
   "source": [
    "top = df[df['Year'] == 2016]\n",
    "top = top.dropna().drop_duplicates(subset='Event',keep='first')\n",
    "top"
   ]
  },
  {
   "cell_type": "code",
   "execution_count": null,
   "id": "7774a79d",
   "metadata": {},
   "outputs": [],
   "source": [
    "\n",
    "\n",
    "top[['Team','Medal']].groupby('Team').count().sort_values(by='Medal',ascending=False).head(10).reset_index()"
   ]
  },
  {
   "cell_type": "code",
   "execution_count": null,
   "id": "15a432f3",
   "metadata": {},
   "outputs": [],
   "source": [
    "fig, (ax1, ax2) = plt.subplots(2, 1, figsize=(7,5))\n",
    "ax1.plot(df['Team'], df['Athletes'],label='Athletes')\n",
    "ax2.plot(df['Team'], df['Medal'],label='Medals Won')\n",
    "\n",
    "ax1.set_ylabel('Athletes')\n",
    "ax1.set_title('2016 Olympic Top 10 Medal Winning Countries')\n",
    "ax2.set_ylabel('Medals Won')\n",
    "\n",
    "fig.tight_layout()\n"
   ]
  },
  {
   "cell_type": "code",
   "execution_count": null,
   "id": "0de63baf",
   "metadata": {},
   "outputs": [],
   "source": []
  },
  {
   "cell_type": "code",
   "execution_count": null,
   "id": "a4c9296d",
   "metadata": {},
   "outputs": [],
   "source": []
  }
 ],
 "metadata": {
  "kernelspec": {
   "display_name": "Python 3 (ipykernel)",
   "language": "python",
   "name": "python3"
  },
  "language_info": {
   "codemirror_mode": {
    "name": "ipython",
    "version": 3
   },
   "file_extension": ".py",
   "mimetype": "text/x-python",
   "name": "python",
   "nbconvert_exporter": "python",
   "pygments_lexer": "ipython3",
   "version": "3.9.1"
  }
 },
 "nbformat": 4,
 "nbformat_minor": 5
}
